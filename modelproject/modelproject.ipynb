{
 "cells": [
  {
   "cell_type": "markdown",
   "metadata": {},
   "source": [
    "# YOUR PROJECT TITLE"
   ]
  },
  {
   "attachments": {},
   "cell_type": "markdown",
   "metadata": {},
   "source": [
    "> **Note the following:** \n",
    "> 1. This is *not* meant to be an example of an actual **model analysis project**, just an example of how to structure such a project.\n",
    "> 1. Remember the general advice on structuring and commenting your code\n",
    "> 1. The `modelproject.py` file includes a function which could be used multiple times in this notebook."
   ]
  },
  {
   "attachments": {},
   "cell_type": "markdown",
   "metadata": {},
   "source": [
    "**The Cournot Game**"
   ]
  },
  {
   "cell_type": "markdown",
   "metadata": {},
   "source": [
    "Imports and set magics:"
   ]
  },
  {
   "cell_type": "code",
   "execution_count": 4,
   "metadata": {},
   "outputs": [],
   "source": [
    "import numpy as np\n",
    "import warnings \n",
    "import scipy.optimize as optimize\n",
    "import plotly.express as px\n",
    "import matplotlib.pyplot as plt\n",
    "from ipywidgets import interact, FloatSlider, Layout\n",
    "\n",
    "# autoreload modules when code is run\n",
    "%load_ext autoreload\n",
    "%autoreload 2\n",
    "\n",
    "# local modules\n",
    "import modelproject"
   ]
  },
  {
   "cell_type": "markdown",
   "metadata": {},
   "source": [
    "# Model description"
   ]
  },
  {
   "attachments": {},
   "cell_type": "markdown",
   "metadata": {},
   "source": [
    "In this project I will analyse the Cournot game. I will here look at a market with n firms and see what happens with the equrelibrium when adding more firms in the equation. This means that the firms will choose a quantity q and the economy will end in some nash equilibrium.\n",
    "\n",
    "I will consider an economy where I have to identical firms that each produce a good. these firms will then simultanius choose a quantity $q{_i}$ which is split into $q{_1}$ and $q{_2}$. this means that the total quanity of goods on the market equals\n",
    " $q=q{_1}+q{_2}+...+q{_n}$\n",
    "The output for the firms in my economy is then\n",
    "$q{2}=q+q{_1}$\n",
    "$q{1}=q-q{_2}$\n",
    "\n",
    "The marginal cost for the firms will be $c{_i}$ where with $<=c{_i}<a$ where a is just some constant that will indicate where the two firms intercede.\n",
    "the inverse demand function will be defined as\n",
    "\n",
    "$p(q)$\n",
    "\n",
    "each firm want to maximise thier profits givin the other firms output therefore I can write the firms profit function as\n",
    "\n",
    "$\\PI{_1}(q{_1},q{2})=(a-bq{_1}-bq{_2}-c)q{_1} $\n",
    "$\\PI{_2}(q{_1},q{2})=(a-bq{_1}-bq{_2}-c)q{_2} $\n",
    "\n",
    "The firms will be assumed to maximize profits by taking the first order I will find just that.\n",
    "$\n",
    "\\frac{d \\Pi_1}{d q_1} = a-bq{_1}-bq{_2}-c = 0\n",
    "$\n",
    "$\n",
    "\\frac{d \\Pi_2}{d q_2} = a-bq{_1}-bq{_2}-c = 0\n",
    "$\n",
    "the best response (BR) for both firms will then be. \n",
    "$\n",
    "q{_1}=\\frac{a-c}{2b}-\\frac{1}{2}*q{_2}\n",
    "$\n",
    "$\n",
    "q{_2}=\\frac{a-c}{2b}-\\frac{1}{2}*q{_1}\n",
    "$\n",
    "\n",
    "and this is the model i will test for."
   ]
  },
  {
   "attachments": {},
   "cell_type": "markdown",
   "metadata": {},
   "source": [
    "**Writing the Cournot economy**"
   ]
  },
  {
   "cell_type": "code",
   "execution_count": 9,
   "metadata": {},
   "outputs": [
    {
     "name": "stdout",
     "output_type": "stream",
     "text": [
      "The Cournot/Nash Equilibirum is : \n",
      " q_1^* = q_2^* = 6.00 \n",
      "\n",
      "The price at the Nash equilibrium is: \n",
      " p = 8.00\n",
      "The profits at the Nash equilibrium is: \n",
      " pi = 36.00\n"
     ]
    }
   ],
   "source": [
    "#first I will define the different functions for the firms\n",
    "\n",
    "# define the demand function and the cost function\n",
    "def p(q1, q2, a, b):\n",
    "    return a - b*(q1 + q2)\n",
    "\n",
    "def cost(q, c):\n",
    "    return q * c \n",
    "\n",
    "# define the profit function for the firms\n",
    "def firm_profit_1(q1, q2, a, b, c):\n",
    "    return p(q1, q2, a, b) * q1 - cost(q1, c)\n",
    "\n",
    "def firm_profit_2(q1, q2, a, b, c):\n",
    "    return p(q1, q2, a, b) * q2 - cost(q2, c)\n",
    "\n",
    "# define the best response function for the firm\n",
    "def BR_1(q2, a, b, c):\n",
    "    Q1 = optimize.minimize(lambda q0: -firm_profit_1(q0, q2, a, b, c), [0]).x[0]\n",
    "    return max(Q1, 0)\n",
    "\n",
    "def BR_2(q1, a, b, c):\n",
    "    Q2 = optimize.minimize(lambda q0: -firm_profit_2(q1, q0, a, b, c), [0]).x[0]\n",
    "    return max(Q2, 0)\n",
    "\n",
    "# define the conditions for the Nash equilibrium\n",
    "def conditions(q,a, b, c ):\n",
    "    u = q[0] - BR_1(q[1],a, b, c)\n",
    "    y = q[1] - BR_2(q[0], a, b, c)\n",
    "    return [u, y]\n",
    "\n",
    "# set the initial guess and parameters\n",
    "initial_guess = [1,1]\n",
    "a = 20\n",
    "b = 1\n",
    "c = 2\n",
    "\n",
    "# use the fsolve function to find the Nash equilibrium\n",
    "solver = optimize.fsolve(conditions, initial_guess, args=(a, b, c))\n",
    "q_star = solver[0]\n",
    "\n",
    "# print the NE\n",
    "print(f'The Cournot/Nash Equilibirum is : \\n q_1^* = q_2^* = {q_star:.2f} \\n')\n",
    "\n",
    "# Calculate and print the price and profit at the NE\n",
    "p_star = p(q_star, q_star, a, b)\n",
    "print(f'The price at the Nash equilibrium is: \\n p = {p_star:.2f}')\n",
    "\n",
    "pi_star = firm_profit_1(q_star, q_star, a, b, c)\n",
    "print(f'The profits at the Nash equilibrium is: \\n pi = {pi_star:.2f}')"
   ]
  },
  {
   "attachments": {},
   "cell_type": "markdown",
   "metadata": {},
   "source": [
    "Here it can be seen that the firms will both produce 6 units of the goods. firm one will produce to a price of 8 and get a profit of 36. firm 2 will be identical given that the two firms have identical profit functions.\n",
    "I will next plot the two firms in a plot to see the output graphicly"
   ]
  },
  {
   "cell_type": "code",
   "execution_count": 12,
   "metadata": {},
   "outputs": [
    {
     "data": {
      "application/vnd.plotly.v1+json": {
       "config": {
        "plotlyServerURL": "https://plot.ly"
       },
       "data": [
        {
         "hovertemplate": "<extra></extra>",
         "legendgroup": "",
         "marker": {
          "color": "#636efa",
          "symbol": "circle"
         },
         "mode": "markers",
         "name": "",
         "orientation": "v",
         "showlegend": false,
         "type": "scatter",
         "xaxis": "x",
         "yaxis": "y"
        },
        {
         "line": {
          "color": "red"
         },
         "mode": "lines",
         "name": "Firm 1",
         "type": "scatter",
         "x": [
          8.999999731054316,
          8.949999641670525,
          8.899999797676282,
          8.84999967444386,
          8.800000068646336,
          8.74999986514733,
          8.69999984850063,
          8.650000167297828,
          8.600000013286294,
          8.550000046690013,
          8.499999620341448,
          8.449999807426792,
          8.399999288361798,
          8.349999611651281,
          8.29999964504232,
          8.249999894702452,
          8.199999699184387,
          8.14999961080483,
          8.09999980505317,
          8.049999711258488,
          7.999999946149314,
          7.950000002162988,
          7.900000541549482,
          7.849999258654719,
          7.800000228063402,
          7.750000468093115,
          7.70000003038693,
          7.650000080757326,
          7.599999994309759,
          7.549999911210078,
          7.499999652013634,
          7.45000012780938,
          7.399999490270558,
          7.349999938561033,
          7.300000237589549,
          7.2499995735340335,
          7.200000381591014,
          7.149999920442538,
          7.099999533515341,
          7.050000403457843,
          7.0000001700242365,
          6.949999967048681,
          6.899999990637722,
          6.849999856620677,
          6.800000029659139,
          6.7500002454218695,
          6.699999546658394,
          6.650000856210903,
          6.599999861394905,
          6.549999601674798,
          6.4999998386401865,
          6.44999968761004,
          6.39999981329298,
          6.350000504093526,
          6.299999859510626,
          6.249999909879361,
          6.200000064000545,
          6.149999844372145,
          6.099999969049829,
          6.049999616590313,
          6.000000086944285,
          5.949999847673384,
          5.900000001823548,
          5.849999540339503,
          5.800000021950254,
          5.749999928618577,
          5.700000288602627,
          5.65000038172478,
          5.600000142490668,
          5.549999652956142,
          5.4999999673198685,
          5.450000265238389,
          5.400000044208139,
          5.349999906392723,
          5.300000042054936,
          5.25000004319946,
          5.200000263871875,
          5.149999950173703,
          5.100000090814921,
          5.050000062277345,
          5.000000026295515,
          4.949999973840536,
          4.9000000539314925,
          4.849999984030706,
          4.799999880054397,
          4.750000054392446,
          4.700000072443686,
          4.650000043226399,
          4.5999996826821565,
          4.549999997354865,
          4.499999913541009,
          4.449999973205722,
          4.4000000817248495,
          4.349999928939151,
          4.300000041935776,
          4.250000113527244,
          4.199999916197203,
          4.150000050417078,
          4.0999998992817135,
          4.049999994862673
         ],
         "y": [
          0,
          0.1,
          0.2,
          0.30000000000000004,
          0.4,
          0.5,
          0.6000000000000001,
          0.7000000000000001,
          0.8,
          0.9,
          1,
          1.1,
          1.2000000000000002,
          1.3,
          1.4000000000000001,
          1.5,
          1.6,
          1.7000000000000002,
          1.8,
          1.9000000000000001,
          2,
          2.1,
          2.2,
          2.3000000000000003,
          2.4000000000000004,
          2.5,
          2.6,
          2.7,
          2.8000000000000003,
          2.9000000000000004,
          3,
          3.1,
          3.2,
          3.3000000000000003,
          3.4000000000000004,
          3.5,
          3.6,
          3.7,
          3.8000000000000003,
          3.9000000000000004,
          4,
          4.1000000000000005,
          4.2,
          4.3,
          4.4,
          4.5,
          4.6000000000000005,
          4.7,
          4.800000000000001,
          4.9,
          5,
          5.1000000000000005,
          5.2,
          5.300000000000001,
          5.4,
          5.5,
          5.6000000000000005,
          5.7,
          5.800000000000001,
          5.9,
          6,
          6.1000000000000005,
          6.2,
          6.300000000000001,
          6.4,
          6.5,
          6.6000000000000005,
          6.7,
          6.800000000000001,
          6.9,
          7,
          7.1000000000000005,
          7.2,
          7.300000000000001,
          7.4,
          7.5,
          7.6000000000000005,
          7.7,
          7.800000000000001,
          7.9,
          8,
          8.1,
          8.200000000000001,
          8.3,
          8.4,
          8.5,
          8.6,
          8.700000000000001,
          8.8,
          8.9,
          9,
          9.1,
          9.200000000000001,
          9.3,
          9.4,
          9.5,
          9.600000000000001,
          9.700000000000001,
          9.8,
          9.9
         ]
        },
        {
         "line": {
          "color": "blue"
         },
         "mode": "lines",
         "name": "Firm 2",
         "type": "scatter",
         "x": [
          0,
          0.1,
          0.2,
          0.30000000000000004,
          0.4,
          0.5,
          0.6000000000000001,
          0.7000000000000001,
          0.8,
          0.9,
          1,
          1.1,
          1.2000000000000002,
          1.3,
          1.4000000000000001,
          1.5,
          1.6,
          1.7000000000000002,
          1.8,
          1.9000000000000001,
          2,
          2.1,
          2.2,
          2.3000000000000003,
          2.4000000000000004,
          2.5,
          2.6,
          2.7,
          2.8000000000000003,
          2.9000000000000004,
          3,
          3.1,
          3.2,
          3.3000000000000003,
          3.4000000000000004,
          3.5,
          3.6,
          3.7,
          3.8000000000000003,
          3.9000000000000004,
          4,
          4.1000000000000005,
          4.2,
          4.3,
          4.4,
          4.5,
          4.6000000000000005,
          4.7,
          4.800000000000001,
          4.9,
          5,
          5.1000000000000005,
          5.2,
          5.300000000000001,
          5.4,
          5.5,
          5.6000000000000005,
          5.7,
          5.800000000000001,
          5.9,
          6,
          6.1000000000000005,
          6.2,
          6.300000000000001,
          6.4,
          6.5,
          6.6000000000000005,
          6.7,
          6.800000000000001,
          6.9,
          7,
          7.1000000000000005,
          7.2,
          7.300000000000001,
          7.4,
          7.5,
          7.6000000000000005,
          7.7,
          7.800000000000001,
          7.9,
          8,
          8.1,
          8.200000000000001,
          8.3,
          8.4,
          8.5,
          8.6,
          8.700000000000001,
          8.8,
          8.9,
          9,
          9.1,
          9.200000000000001,
          9.3,
          9.4,
          9.5,
          9.600000000000001,
          9.700000000000001,
          9.8,
          9.9
         ],
         "y": [
          8.999999731054316,
          8.949999641670525,
          8.899999797676282,
          8.84999967444386,
          8.800000068646336,
          8.74999986514733,
          8.69999984850063,
          8.650000167297828,
          8.600000013286294,
          8.550000046690013,
          8.499999620341448,
          8.449999807426792,
          8.399999288361798,
          8.349999611651281,
          8.29999964504232,
          8.249999894702452,
          8.199999699184387,
          8.14999961080483,
          8.09999980505317,
          8.049999711258488,
          7.999999946149314,
          7.950000002162988,
          7.900000541549482,
          7.849999258654719,
          7.800000228063402,
          7.750000468093115,
          7.70000003038693,
          7.650000080757326,
          7.599999994309759,
          7.549999911210078,
          7.499999652013634,
          7.45000012780938,
          7.399999490270558,
          7.349999938561033,
          7.300000237589549,
          7.2499995735340335,
          7.200000381591014,
          7.149999920442538,
          7.099999533515341,
          7.050000403457843,
          7.0000001700242365,
          6.949999967048681,
          6.899999990637722,
          6.849999856620677,
          6.800000029659139,
          6.7500002454218695,
          6.699999546658394,
          6.650000856210903,
          6.599999861394905,
          6.549999601674798,
          6.4999998386401865,
          6.44999968761004,
          6.39999981329298,
          6.350000504093526,
          6.299999859510626,
          6.249999909879361,
          6.200000064000545,
          6.149999844372145,
          6.099999969049829,
          6.049999616590313,
          6.000000086944285,
          5.949999847673384,
          5.900000001823548,
          5.849999540339503,
          5.800000021950254,
          5.749999928618577,
          5.700000288602627,
          5.65000038172478,
          5.600000142490668,
          5.549999652956142,
          5.4999999673198685,
          5.450000265238389,
          5.400000044208139,
          5.349999906392723,
          5.300000042054936,
          5.25000004319946,
          5.200000263871875,
          5.149999950173703,
          5.100000090814921,
          5.050000062277345,
          5.000000026295515,
          4.949999973840536,
          4.9000000539314925,
          4.849999984030706,
          4.799999880054397,
          4.750000054392446,
          4.700000072443686,
          4.650000043226399,
          4.5999996826821565,
          4.549999997354865,
          4.499999913541009,
          4.449999973205722,
          4.4000000817248495,
          4.349999928939151,
          4.300000041935776,
          4.250000113527244,
          4.199999916197203,
          4.150000050417078,
          4.0999998992817135,
          4.049999994862673
         ]
        }
       ],
       "layout": {
        "legend": {
         "tracegroupgap": 0
        },
        "margin": {
         "t": 60
        },
        "template": {
         "data": {
          "bar": [
           {
            "error_x": {
             "color": "#2a3f5f"
            },
            "error_y": {
             "color": "#2a3f5f"
            },
            "marker": {
             "line": {
              "color": "#E5ECF6",
              "width": 0.5
             },
             "pattern": {
              "fillmode": "overlay",
              "size": 10,
              "solidity": 0.2
             }
            },
            "type": "bar"
           }
          ],
          "barpolar": [
           {
            "marker": {
             "line": {
              "color": "#E5ECF6",
              "width": 0.5
             },
             "pattern": {
              "fillmode": "overlay",
              "size": 10,
              "solidity": 0.2
             }
            },
            "type": "barpolar"
           }
          ],
          "carpet": [
           {
            "aaxis": {
             "endlinecolor": "#2a3f5f",
             "gridcolor": "white",
             "linecolor": "white",
             "minorgridcolor": "white",
             "startlinecolor": "#2a3f5f"
            },
            "baxis": {
             "endlinecolor": "#2a3f5f",
             "gridcolor": "white",
             "linecolor": "white",
             "minorgridcolor": "white",
             "startlinecolor": "#2a3f5f"
            },
            "type": "carpet"
           }
          ],
          "choropleth": [
           {
            "colorbar": {
             "outlinewidth": 0,
             "ticks": ""
            },
            "type": "choropleth"
           }
          ],
          "contour": [
           {
            "colorbar": {
             "outlinewidth": 0,
             "ticks": ""
            },
            "colorscale": [
             [
              0,
              "#0d0887"
             ],
             [
              0.1111111111111111,
              "#46039f"
             ],
             [
              0.2222222222222222,
              "#7201a8"
             ],
             [
              0.3333333333333333,
              "#9c179e"
             ],
             [
              0.4444444444444444,
              "#bd3786"
             ],
             [
              0.5555555555555556,
              "#d8576b"
             ],
             [
              0.6666666666666666,
              "#ed7953"
             ],
             [
              0.7777777777777778,
              "#fb9f3a"
             ],
             [
              0.8888888888888888,
              "#fdca26"
             ],
             [
              1,
              "#f0f921"
             ]
            ],
            "type": "contour"
           }
          ],
          "contourcarpet": [
           {
            "colorbar": {
             "outlinewidth": 0,
             "ticks": ""
            },
            "type": "contourcarpet"
           }
          ],
          "heatmap": [
           {
            "colorbar": {
             "outlinewidth": 0,
             "ticks": ""
            },
            "colorscale": [
             [
              0,
              "#0d0887"
             ],
             [
              0.1111111111111111,
              "#46039f"
             ],
             [
              0.2222222222222222,
              "#7201a8"
             ],
             [
              0.3333333333333333,
              "#9c179e"
             ],
             [
              0.4444444444444444,
              "#bd3786"
             ],
             [
              0.5555555555555556,
              "#d8576b"
             ],
             [
              0.6666666666666666,
              "#ed7953"
             ],
             [
              0.7777777777777778,
              "#fb9f3a"
             ],
             [
              0.8888888888888888,
              "#fdca26"
             ],
             [
              1,
              "#f0f921"
             ]
            ],
            "type": "heatmap"
           }
          ],
          "heatmapgl": [
           {
            "colorbar": {
             "outlinewidth": 0,
             "ticks": ""
            },
            "colorscale": [
             [
              0,
              "#0d0887"
             ],
             [
              0.1111111111111111,
              "#46039f"
             ],
             [
              0.2222222222222222,
              "#7201a8"
             ],
             [
              0.3333333333333333,
              "#9c179e"
             ],
             [
              0.4444444444444444,
              "#bd3786"
             ],
             [
              0.5555555555555556,
              "#d8576b"
             ],
             [
              0.6666666666666666,
              "#ed7953"
             ],
             [
              0.7777777777777778,
              "#fb9f3a"
             ],
             [
              0.8888888888888888,
              "#fdca26"
             ],
             [
              1,
              "#f0f921"
             ]
            ],
            "type": "heatmapgl"
           }
          ],
          "histogram": [
           {
            "marker": {
             "pattern": {
              "fillmode": "overlay",
              "size": 10,
              "solidity": 0.2
             }
            },
            "type": "histogram"
           }
          ],
          "histogram2d": [
           {
            "colorbar": {
             "outlinewidth": 0,
             "ticks": ""
            },
            "colorscale": [
             [
              0,
              "#0d0887"
             ],
             [
              0.1111111111111111,
              "#46039f"
             ],
             [
              0.2222222222222222,
              "#7201a8"
             ],
             [
              0.3333333333333333,
              "#9c179e"
             ],
             [
              0.4444444444444444,
              "#bd3786"
             ],
             [
              0.5555555555555556,
              "#d8576b"
             ],
             [
              0.6666666666666666,
              "#ed7953"
             ],
             [
              0.7777777777777778,
              "#fb9f3a"
             ],
             [
              0.8888888888888888,
              "#fdca26"
             ],
             [
              1,
              "#f0f921"
             ]
            ],
            "type": "histogram2d"
           }
          ],
          "histogram2dcontour": [
           {
            "colorbar": {
             "outlinewidth": 0,
             "ticks": ""
            },
            "colorscale": [
             [
              0,
              "#0d0887"
             ],
             [
              0.1111111111111111,
              "#46039f"
             ],
             [
              0.2222222222222222,
              "#7201a8"
             ],
             [
              0.3333333333333333,
              "#9c179e"
             ],
             [
              0.4444444444444444,
              "#bd3786"
             ],
             [
              0.5555555555555556,
              "#d8576b"
             ],
             [
              0.6666666666666666,
              "#ed7953"
             ],
             [
              0.7777777777777778,
              "#fb9f3a"
             ],
             [
              0.8888888888888888,
              "#fdca26"
             ],
             [
              1,
              "#f0f921"
             ]
            ],
            "type": "histogram2dcontour"
           }
          ],
          "mesh3d": [
           {
            "colorbar": {
             "outlinewidth": 0,
             "ticks": ""
            },
            "type": "mesh3d"
           }
          ],
          "parcoords": [
           {
            "line": {
             "colorbar": {
              "outlinewidth": 0,
              "ticks": ""
             }
            },
            "type": "parcoords"
           }
          ],
          "pie": [
           {
            "automargin": true,
            "type": "pie"
           }
          ],
          "scatter": [
           {
            "fillpattern": {
             "fillmode": "overlay",
             "size": 10,
             "solidity": 0.2
            },
            "type": "scatter"
           }
          ],
          "scatter3d": [
           {
            "line": {
             "colorbar": {
              "outlinewidth": 0,
              "ticks": ""
             }
            },
            "marker": {
             "colorbar": {
              "outlinewidth": 0,
              "ticks": ""
             }
            },
            "type": "scatter3d"
           }
          ],
          "scattercarpet": [
           {
            "marker": {
             "colorbar": {
              "outlinewidth": 0,
              "ticks": ""
             }
            },
            "type": "scattercarpet"
           }
          ],
          "scattergeo": [
           {
            "marker": {
             "colorbar": {
              "outlinewidth": 0,
              "ticks": ""
             }
            },
            "type": "scattergeo"
           }
          ],
          "scattergl": [
           {
            "marker": {
             "colorbar": {
              "outlinewidth": 0,
              "ticks": ""
             }
            },
            "type": "scattergl"
           }
          ],
          "scattermapbox": [
           {
            "marker": {
             "colorbar": {
              "outlinewidth": 0,
              "ticks": ""
             }
            },
            "type": "scattermapbox"
           }
          ],
          "scatterpolar": [
           {
            "marker": {
             "colorbar": {
              "outlinewidth": 0,
              "ticks": ""
             }
            },
            "type": "scatterpolar"
           }
          ],
          "scatterpolargl": [
           {
            "marker": {
             "colorbar": {
              "outlinewidth": 0,
              "ticks": ""
             }
            },
            "type": "scatterpolargl"
           }
          ],
          "scatterternary": [
           {
            "marker": {
             "colorbar": {
              "outlinewidth": 0,
              "ticks": ""
             }
            },
            "type": "scatterternary"
           }
          ],
          "surface": [
           {
            "colorbar": {
             "outlinewidth": 0,
             "ticks": ""
            },
            "colorscale": [
             [
              0,
              "#0d0887"
             ],
             [
              0.1111111111111111,
              "#46039f"
             ],
             [
              0.2222222222222222,
              "#7201a8"
             ],
             [
              0.3333333333333333,
              "#9c179e"
             ],
             [
              0.4444444444444444,
              "#bd3786"
             ],
             [
              0.5555555555555556,
              "#d8576b"
             ],
             [
              0.6666666666666666,
              "#ed7953"
             ],
             [
              0.7777777777777778,
              "#fb9f3a"
             ],
             [
              0.8888888888888888,
              "#fdca26"
             ],
             [
              1,
              "#f0f921"
             ]
            ],
            "type": "surface"
           }
          ],
          "table": [
           {
            "cells": {
             "fill": {
              "color": "#EBF0F8"
             },
             "line": {
              "color": "white"
             }
            },
            "header": {
             "fill": {
              "color": "#C8D4E3"
             },
             "line": {
              "color": "white"
             }
            },
            "type": "table"
           }
          ]
         },
         "layout": {
          "annotationdefaults": {
           "arrowcolor": "#2a3f5f",
           "arrowhead": 0,
           "arrowwidth": 1
          },
          "autotypenumbers": "strict",
          "coloraxis": {
           "colorbar": {
            "outlinewidth": 0,
            "ticks": ""
           }
          },
          "colorscale": {
           "diverging": [
            [
             0,
             "#8e0152"
            ],
            [
             0.1,
             "#c51b7d"
            ],
            [
             0.2,
             "#de77ae"
            ],
            [
             0.3,
             "#f1b6da"
            ],
            [
             0.4,
             "#fde0ef"
            ],
            [
             0.5,
             "#f7f7f7"
            ],
            [
             0.6,
             "#e6f5d0"
            ],
            [
             0.7,
             "#b8e186"
            ],
            [
             0.8,
             "#7fbc41"
            ],
            [
             0.9,
             "#4d9221"
            ],
            [
             1,
             "#276419"
            ]
           ],
           "sequential": [
            [
             0,
             "#0d0887"
            ],
            [
             0.1111111111111111,
             "#46039f"
            ],
            [
             0.2222222222222222,
             "#7201a8"
            ],
            [
             0.3333333333333333,
             "#9c179e"
            ],
            [
             0.4444444444444444,
             "#bd3786"
            ],
            [
             0.5555555555555556,
             "#d8576b"
            ],
            [
             0.6666666666666666,
             "#ed7953"
            ],
            [
             0.7777777777777778,
             "#fb9f3a"
            ],
            [
             0.8888888888888888,
             "#fdca26"
            ],
            [
             1,
             "#f0f921"
            ]
           ],
           "sequentialminus": [
            [
             0,
             "#0d0887"
            ],
            [
             0.1111111111111111,
             "#46039f"
            ],
            [
             0.2222222222222222,
             "#7201a8"
            ],
            [
             0.3333333333333333,
             "#9c179e"
            ],
            [
             0.4444444444444444,
             "#bd3786"
            ],
            [
             0.5555555555555556,
             "#d8576b"
            ],
            [
             0.6666666666666666,
             "#ed7953"
            ],
            [
             0.7777777777777778,
             "#fb9f3a"
            ],
            [
             0.8888888888888888,
             "#fdca26"
            ],
            [
             1,
             "#f0f921"
            ]
           ]
          },
          "colorway": [
           "#636efa",
           "#EF553B",
           "#00cc96",
           "#ab63fa",
           "#FFA15A",
           "#19d3f3",
           "#FF6692",
           "#B6E880",
           "#FF97FF",
           "#FECB52"
          ],
          "font": {
           "color": "#2a3f5f"
          },
          "geo": {
           "bgcolor": "white",
           "lakecolor": "white",
           "landcolor": "#E5ECF6",
           "showlakes": true,
           "showland": true,
           "subunitcolor": "white"
          },
          "hoverlabel": {
           "align": "left"
          },
          "hovermode": "closest",
          "mapbox": {
           "style": "light"
          },
          "paper_bgcolor": "white",
          "plot_bgcolor": "#E5ECF6",
          "polar": {
           "angularaxis": {
            "gridcolor": "white",
            "linecolor": "white",
            "ticks": ""
           },
           "bgcolor": "#E5ECF6",
           "radialaxis": {
            "gridcolor": "white",
            "linecolor": "white",
            "ticks": ""
           }
          },
          "scene": {
           "xaxis": {
            "backgroundcolor": "#E5ECF6",
            "gridcolor": "white",
            "gridwidth": 2,
            "linecolor": "white",
            "showbackground": true,
            "ticks": "",
            "zerolinecolor": "white"
           },
           "yaxis": {
            "backgroundcolor": "#E5ECF6",
            "gridcolor": "white",
            "gridwidth": 2,
            "linecolor": "white",
            "showbackground": true,
            "ticks": "",
            "zerolinecolor": "white"
           },
           "zaxis": {
            "backgroundcolor": "#E5ECF6",
            "gridcolor": "white",
            "gridwidth": 2,
            "linecolor": "white",
            "showbackground": true,
            "ticks": "",
            "zerolinecolor": "white"
           }
          },
          "shapedefaults": {
           "line": {
            "color": "#2a3f5f"
           }
          },
          "ternary": {
           "aaxis": {
            "gridcolor": "white",
            "linecolor": "white",
            "ticks": ""
           },
           "baxis": {
            "gridcolor": "white",
            "linecolor": "white",
            "ticks": ""
           },
           "bgcolor": "#E5ECF6",
           "caxis": {
            "gridcolor": "white",
            "linecolor": "white",
            "ticks": ""
           }
          },
          "title": {
           "x": 0.05
          },
          "xaxis": {
           "automargin": true,
           "gridcolor": "white",
           "linecolor": "white",
           "ticks": "",
           "title": {
            "standoff": 15
           },
           "zerolinecolor": "white",
           "zerolinewidth": 2
          },
          "yaxis": {
           "automargin": true,
           "gridcolor": "white",
           "linecolor": "white",
           "ticks": "",
           "title": {
            "standoff": 15
           },
           "zerolinecolor": "white",
           "zerolinewidth": 2
          }
         }
        },
        "title": {
         "text": "BR for both firms"
        },
        "xaxis": {
         "anchor": "y",
         "domain": [
          0,
          1
         ],
         "title": {
          "text": "Firm 1 output"
         }
        },
        "yaxis": {
         "anchor": "x",
         "domain": [
          0,
          1
         ],
         "title": {
          "text": "Firm 2 output"
         }
        }
       }
      }
     },
     "metadata": {},
     "output_type": "display_data"
    }
   ],
   "source": [
    "# define production levels for firm 1\n",
    "production_level_f1 = np.arange(0, 10, 0.1)\n",
    "\n",
    "# calculate production levels for the firms using the BR function\n",
    "production_level_f2 = np.vectorize(BR_2)(production_level_f1, a, b, c)\n",
    "production_level_f1_2 = np.vectorize(BR_1)(production_level_f2, a, b, c)\n",
    "\n",
    "# create the scatter plot\n",
    "fig = px.scatter()\n",
    "\n",
    "# add lines for firm 1 and 2\n",
    "fig.add_scatter(x=production_level_f2, y=production_level_f1, mode='lines', name='Firm 1', line=dict(color='red'))\n",
    "fig.add_scatter(x=production_level_f1, y=production_level_f2, mode='lines', name='Firm 2', line=dict(color='blue'))\n",
    "\n",
    "# add titles\n",
    "fig.update_layout(title='BR for both firms')\n",
    "fig.update_xaxes(title='Firm 1 output')\n",
    "fig.update_yaxes(title='Firm 2 output')\n",
    "\n",
    "fig.show()"
   ]
  },
  {
   "attachments": {},
   "cell_type": "markdown",
   "metadata": {},
   "source": [
    "Here it can be seen that both firms will choose to produce 6 units of the goode. Two interesting things to note. first when only one firm produces the output in the economy will be 9 instead of 12. It is better for the economy the more firms are competing against each other. The second thing is that for this to work it is important that the economy is a cornot and not a stackelberg sinse that would also produce an inefficient amount of firm 1 was the price leader."
   ]
  },
  {
   "attachments": {},
   "cell_type": "markdown",
   "metadata": {},
   "source": [
    "**New paremeter values**"
   ]
  },
  {
   "attachments": {},
   "cell_type": "markdown",
   "metadata": {},
   "source": [
    "Now I will update the model so that different paremter values can be used to see how the firms change the NE in the economy."
   ]
  },
  {
   "cell_type": "code",
   "execution_count": 16,
   "metadata": {},
   "outputs": [
    {
     "data": {
      "application/vnd.jupyter.widget-view+json": {
       "model_id": "3295eb15ae2d4abf9f88ec41f61617ed",
       "version_major": 2,
       "version_minor": 0
      },
      "text/plain": [
       "interactive(children=(FloatSlider(value=10.0, description='a:', layout=Layout(width='50%'), max=20.0, step=0.5…"
      ]
     },
     "metadata": {},
     "output_type": "display_data"
    },
    {
     "data": {
      "text/plain": [
       "<function __main__.cournot_model(a, b, c)>"
      ]
     },
     "execution_count": 16,
     "metadata": {},
     "output_type": "execute_result"
    }
   ],
   "source": [
    "N = 2\n",
    "\n",
    "# define quantity and price\n",
    "def cournot(N, a, b, c):\n",
    "    q = (a - b*N - c*N) / (2*N)  \n",
    "    p = a - b*q - N*q \n",
    "    return p, q\n",
    "\n",
    "# create plot \n",
    "def cournot_model(a, b, c):\n",
    "    p, q = cournot(N, a, b, c) \n",
    "    fig, ax = plt.subplots()\n",
    "    x = np.linspace(0, (a-b*N)/N, 100)  \n",
    "    ax.plot(x, a - b*x - N*x, lw=2, label='Demand')  \n",
    "    ax.plot(q, p, 'ro', label='Equilibrium')  \n",
    "    ax.set_xlabel('Quantity')\n",
    "    ax.set_ylabel('Price')\n",
    "    ax.set_xlim([0, (a-b*N)/N])  \n",
    "    ax.set_ylim([0, a])  \n",
    "    ax.legend(loc='best')\n",
    "    plt.title(f'{N} firms, a={a}, b={b}, c={c}')  \n",
    "    plt.show()\n",
    "\n",
    "# create sliders for a, b and c\n",
    "a_slider = FloatSlider(min=0, max=20, step=0.5, value=10, description='a:', layout=Layout(width='50%'))\n",
    "b_slider = FloatSlider(min=0, max=5, step=0.1, value=1, description='b:', layout=Layout(width='50%'))\n",
    "c_slider = FloatSlider(min=0, max=5, step=0.1, value=1, description='c:', layout=Layout(width='50%'))\n",
    "# use the sliders to interact with the cournot_model function\n",
    "interact(cournot_model, a=a_slider, b=b_slider, c=c_slider,)"
   ]
  },
  {
   "attachments": {},
   "cell_type": "markdown",
   "metadata": {},
   "source": [
    "a as desribed above it the intersection the higer a is the more demand for the goode exist in the economy.\n",
    "b is the slope of the graph. Which means than when b increases the dependency of the other price for the opposing firm. a high value of b would lead to lower amounts of goods produced in the economy for a higher price than before.\n",
    "c will increase the marginal cost of producing each goode. the higher c will make it so demand will wall given that both firms will have to increae prices."
   ]
  },
  {
   "attachments": {},
   "cell_type": "markdown",
   "metadata": {},
   "source": [
    "**More firms**"
   ]
  },
  {
   "attachments": {},
   "cell_type": "markdown",
   "metadata": {},
   "source": [
    "I will now expand the economy so that it is able to hold more three firms in the market which should show the point of more firms increases competion and makes the economy healthier."
   ]
  },
  {
   "cell_type": "code",
   "execution_count": 21,
   "metadata": {},
   "outputs": [
    {
     "name": "stdout",
     "output_type": "stream",
     "text": [
      "The Cournot/Nash Equilibirum is : \n",
      " q_1^* = 4.50, q_2^* = 4.50, q_3^* = 4.50\n",
      "\n",
      "The price at the Nash equilibrium is: \n",
      " p = 6.50\n",
      "The profits for firm i at the Nash equilibrium is: \n",
      " pi_i = 20.25\n"
     ]
    }
   ],
   "source": [
    "# define the demand function and cost function\n",
    "def p(q1, q2, q3, a, b):\n",
    "    return a - b*(q1 + q2 + q3)\n",
    "\n",
    "def cost(q, c):\n",
    "    return q * c \n",
    "\n",
    "# define the profit function for firm 1, firm 2 and firm 3\n",
    "def firm_profit_1(q1, q2, q3, a, b, c):\n",
    "    return p(q1, q2, q3, a, b) * q1 - cost(q1, c)\n",
    "\n",
    "def firm_profit_2(q1, q2, q3, a, b, c):\n",
    "    return p(q1, q2, q3, a, b) * q2 - cost(q2, c)\n",
    "\n",
    "def firm_profit_3(q1, q2, q3, a, b, c):\n",
    "    return p(q1, q2, q3, a, b) * q3 - cost(q3, c)\n",
    "\n",
    "# Define the best response function for firm 1, firm 2 and firm 3\n",
    "def BR_1(q2, q3, a, b, c):\n",
    "    Q1 = optimize.minimize(lambda q0: -firm_profit_1(q0, q2, q3, a, b, c), [0]).x[0]\n",
    "    return Q1\n",
    "\n",
    "def BR_2(q1, q3, a, b, c):\n",
    "    Q2 = optimize.minimize(lambda q0: -firm_profit_2(q1, q0, q3, a, b, c), [0]).x[0]\n",
    "    return Q2\n",
    "\n",
    "def BR_3(q1, q2, a, b, c):\n",
    "    Q3 = optimize.minimize(lambda q0: -firm_profit_3(q1, q2, q0, a, b, c), [0]).x[0]\n",
    "    return Q3\n",
    "\n",
    "# define the conditions for NE\n",
    "def conditions(q,a, b, c ):\n",
    "    u = q[0] - BR_1(q[1], q[2], a, b, c) # condition for firm 1\n",
    "    y = q[1] - BR_2(q[0], q[2], a, b, c) # condition for firm 2\n",
    "    z = q[2] - BR_3(q[0], q[1], a, b, c) # condition for firm 3\n",
    "    return [u, y, z]\n",
    "\n",
    "# set the initial guess\n",
    "initial_guess = [1,1,1]\n",
    "a = 20\n",
    "b = 1\n",
    "c = 2\n",
    "\n",
    "# solve for NE\n",
    "solver = optimize.fsolve(conditions,initial_guess, args = (a, b, c))\n",
    "q_star = solver\n",
    "print(f'The Cournot/Nash Equilibirum is : \\n q_1^* = {q_star[0]:.2f}, q_2^* = {q_star[1]:.2f}, q_3^* = {q_star[2]:.2f}\\n')\n",
    "\n",
    "# Calculate and print the price and profit at the NE\n",
    "p_star = p(q_star[0], q_star[1], q_star[2], a, b)\n",
    "print(f'The price at the Nash equilibrium is: \\n p = {p_star:.2f}')\n",
    "\n",
    "pi_star_i = firm_profit_1(q_star[0], q_star[1], q_star[2], a, b, c)\n",
    "print(f'The profits for firm i at the Nash equilibrium is: \\n pi_i = {pi_star_i:.2f}')"
   ]
  },
  {
   "cell_type": "code",
   "execution_count": null,
   "metadata": {},
   "outputs": [],
   "source": []
  },
  {
   "attachments": {},
   "cell_type": "markdown",
   "metadata": {},
   "source": [
    "It can from these results be seen that the firms will now produce a higher amount of goods in this economy. they will produce 13,5 instead of 12. this means that more firms will increase the output in the economy.\n",
    "the price will also fall the more firms enter the market. so if an infinite amount of firms entered the NE price will go towards the cost and the profits on the market will go towards 0. which is the condition for perfect competion in the economy.\n"
   ]
  },
  {
   "cell_type": "markdown",
   "metadata": {},
   "source": [
    "# Conclusion"
   ]
  },
  {
   "attachments": {},
   "cell_type": "markdown",
   "metadata": {},
   "source": [
    "In this project I have looked at the cournot game. and what happens once different variables are cahnged in the market.\n",
    "I have here found that increasing the competetiveness in the econonmy will help to lower prices and increase demand. and I have looked at what happens if the market is just split between two firms and if one firm had a monopoly on the market."
   ]
  }
 ],
 "metadata": {
  "kernelspec": {
   "display_name": "base",
   "language": "python",
   "name": "python3"
  },
  "language_info": {
   "codemirror_mode": {
    "name": "ipython",
    "version": 3
   },
   "file_extension": ".py",
   "mimetype": "text/x-python",
   "name": "python",
   "nbconvert_exporter": "python",
   "pygments_lexer": "ipython3",
   "version": "3.9.16"
  },
  "toc-autonumbering": true,
  "vscode": {
   "interpreter": {
    "hash": "47ef90cdf3004d3f859f1fb202523c65c07ba7c22eefd261b181f4744e2d0403"
   }
  }
 },
 "nbformat": 4,
 "nbformat_minor": 4
}
